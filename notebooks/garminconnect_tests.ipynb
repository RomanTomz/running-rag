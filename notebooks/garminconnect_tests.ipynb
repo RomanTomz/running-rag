{
 "cells": [
  {
   "cell_type": "code",
   "execution_count": null,
   "id": "913e1f2e",
   "metadata": {},
   "outputs": [],
   "source": [
    "import pandas as pd\n",
    "from garminconnect import Garmin"
   ]
  },
  {
   "cell_type": "code",
   "execution_count": null,
   "id": "ae6b374d",
   "metadata": {},
   "outputs": [],
   "source": []
  }
 ],
 "metadata": {
  "kernelspec": {
   "display_name": "garmin-rag",
   "language": "python",
   "name": "python3"
  },
  "language_info": {
   "name": "python",
   "version": "3.11.2"
  }
 },
 "nbformat": 4,
 "nbformat_minor": 5
}
